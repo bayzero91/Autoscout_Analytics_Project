{
 "cells": [
  {
   "cell_type": "code",
   "execution_count": 1,
   "metadata": {},
   "outputs": [],
   "source": [
    "# Import the necessary libraries\n",
    "import numpy as np\n",
    "import matplotlib.pyplot as plt\n",
    "import pandas as pd\n",
    "import seaborn as sns"
   ]
  },
  {
   "cell_type": "code",
   "execution_count": 4,
   "metadata": {},
   "outputs": [],
   "source": [
    "#load the data\n",
    "data = pd.read_csv('autoscout24.csv', sep=';')"
   ]
  },
  {
   "cell_type": "code",
   "execution_count": 5,
   "metadata": {},
   "outputs": [
    {
     "data": {
      "text/html": [
       "<div>\n",
       "<style scoped>\n",
       "    .dataframe tbody tr th:only-of-type {\n",
       "        vertical-align: middle;\n",
       "    }\n",
       "\n",
       "    .dataframe tbody tr th {\n",
       "        vertical-align: top;\n",
       "    }\n",
       "\n",
       "    .dataframe thead th {\n",
       "        text-align: right;\n",
       "    }\n",
       "</style>\n",
       "<table border=\"1\" class=\"dataframe\">\n",
       "  <thead>\n",
       "    <tr style=\"text-align: right;\">\n",
       "      <th></th>\n",
       "      <th>mileage</th>\n",
       "      <th>make</th>\n",
       "      <th>model</th>\n",
       "      <th>fuel</th>\n",
       "      <th>gear</th>\n",
       "      <th>offerType</th>\n",
       "      <th>price</th>\n",
       "      <th>hp</th>\n",
       "      <th>year of sale</th>\n",
       "    </tr>\n",
       "  </thead>\n",
       "  <tbody>\n",
       "    <tr>\n",
       "      <th>0</th>\n",
       "      <td>235000</td>\n",
       "      <td>BMW</td>\n",
       "      <td>316</td>\n",
       "      <td>Diesel</td>\n",
       "      <td>Manual</td>\n",
       "      <td>Used</td>\n",
       "      <td>6800</td>\n",
       "      <td>116.0</td>\n",
       "      <td>2011</td>\n",
       "    </tr>\n",
       "    <tr>\n",
       "      <th>1</th>\n",
       "      <td>92800</td>\n",
       "      <td>Volkswagen</td>\n",
       "      <td>Golf</td>\n",
       "      <td>Gasoline</td>\n",
       "      <td>Manual</td>\n",
       "      <td>Used</td>\n",
       "      <td>6877</td>\n",
       "      <td>122.0</td>\n",
       "      <td>2011</td>\n",
       "    </tr>\n",
       "    <tr>\n",
       "      <th>2</th>\n",
       "      <td>149300</td>\n",
       "      <td>SEAT</td>\n",
       "      <td>Exeo</td>\n",
       "      <td>Gasoline</td>\n",
       "      <td>Manual</td>\n",
       "      <td>Used</td>\n",
       "      <td>6900</td>\n",
       "      <td>160.0</td>\n",
       "      <td>2011</td>\n",
       "    </tr>\n",
       "    <tr>\n",
       "      <th>3</th>\n",
       "      <td>96200</td>\n",
       "      <td>Renault</td>\n",
       "      <td>Megane</td>\n",
       "      <td>Gasoline</td>\n",
       "      <td>Manual</td>\n",
       "      <td>Used</td>\n",
       "      <td>6950</td>\n",
       "      <td>110.0</td>\n",
       "      <td>2011</td>\n",
       "    </tr>\n",
       "    <tr>\n",
       "      <th>4</th>\n",
       "      <td>156000</td>\n",
       "      <td>Peugeot</td>\n",
       "      <td>308</td>\n",
       "      <td>Gasoline</td>\n",
       "      <td>Manual</td>\n",
       "      <td>Used</td>\n",
       "      <td>6950</td>\n",
       "      <td>156.0</td>\n",
       "      <td>2011</td>\n",
       "    </tr>\n",
       "  </tbody>\n",
       "</table>\n",
       "</div>"
      ],
      "text/plain": [
       "   mileage        make   model      fuel    gear offerType  price     hp  \\\n",
       "0   235000         BMW     316    Diesel  Manual      Used   6800  116.0   \n",
       "1    92800  Volkswagen    Golf  Gasoline  Manual      Used   6877  122.0   \n",
       "2   149300        SEAT    Exeo  Gasoline  Manual      Used   6900  160.0   \n",
       "3    96200     Renault  Megane  Gasoline  Manual      Used   6950  110.0   \n",
       "4   156000     Peugeot     308  Gasoline  Manual      Used   6950  156.0   \n",
       "\n",
       "   year of sale  \n",
       "0          2011  \n",
       "1          2011  \n",
       "2          2011  \n",
       "3          2011  \n",
       "4          2011  "
      ]
     },
     "execution_count": 5,
     "metadata": {},
     "output_type": "execute_result"
    }
   ],
   "source": [
    "data.head()"
   ]
  },
  {
   "cell_type": "code",
   "execution_count": 6,
   "metadata": {},
   "outputs": [
    {
     "name": "stdout",
     "output_type": "stream",
     "text": [
      "<class 'pandas.core.frame.DataFrame'>\n",
      "RangeIndex: 46405 entries, 0 to 46404\n",
      "Data columns (total 9 columns):\n",
      " #   Column        Non-Null Count  Dtype  \n",
      "---  ------        --------------  -----  \n",
      " 0   mileage       46405 non-null  int64  \n",
      " 1   make          46405 non-null  object \n",
      " 2   model         46262 non-null  object \n",
      " 3   fuel          46405 non-null  object \n",
      " 4   gear          46223 non-null  object \n",
      " 5   offerType     46405 non-null  object \n",
      " 6   price         46405 non-null  int64  \n",
      " 7   hp            46376 non-null  float64\n",
      " 8   year of sale  46405 non-null  int64  \n",
      "dtypes: float64(1), int64(3), object(5)\n",
      "memory usage: 3.2+ MB\n"
     ]
    }
   ],
   "source": [
    "data.info()"
   ]
  },
  {
   "cell_type": "code",
   "execution_count": 24,
   "metadata": {},
   "outputs": [
    {
     "name": "stdout",
     "output_type": "stream",
     "text": [
      "The database has 354 null values\n",
      "This correspond to 0.76% of the data -> we can drop them for further analysis\n"
     ]
    }
   ],
   "source": [
    "sum_of_all_null_values = data.isnull().sum()[data.isnull().sum() > 0].sum()\n",
    "print(f'The database has {sum_of_all_null_values} null values')\n",
    "print(f'This correspond to {sum_of_all_null_values/data.shape[0]*100:.2f}% of the data -> we can drop them for further analysis')"
   ]
  },
  {
   "cell_type": "code",
   "execution_count": 25,
   "metadata": {},
   "outputs": [],
   "source": [
    "#drup the null values\n",
    "data = data.dropna()"
   ]
  },
  {
   "cell_type": "code",
   "execution_count": null,
   "metadata": {},
   "outputs": [],
   "source": []
  },
  {
   "cell_type": "code",
   "execution_count": null,
   "metadata": {},
   "outputs": [],
   "source": []
  }
 ],
 "metadata": {
  "kernelspec": {
   "display_name": "base",
   "language": "python",
   "name": "python3"
  },
  "language_info": {
   "codemirror_mode": {
    "name": "ipython",
    "version": 3
   },
   "file_extension": ".py",
   "mimetype": "text/x-python",
   "name": "python",
   "nbconvert_exporter": "python",
   "pygments_lexer": "ipython3",
   "version": "3.11.7"
  }
 },
 "nbformat": 4,
 "nbformat_minor": 2
}
